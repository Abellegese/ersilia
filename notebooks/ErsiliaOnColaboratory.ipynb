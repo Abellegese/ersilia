{
  "cells": [
    {
      "cell_type": "markdown",
      "metadata": {
        "colab_type": "text",
        "id": "view-in-github"
      },
      "source": [
        "<a href=\"https://colab.research.google.com/github/ersilia-os/ersilia/blob/master/notebooks/ErsiliaOnColaboratory.ipynb\" target=\"_parent\"><img src=\"https://colab.research.google.com/assets/colab-badge.svg\" alt=\"Open In Colab\"/></a>"
      ]
    },
    {
      "cell_type": "code",
      "execution_count": null,
      "metadata": {
        "cellView": "form",
        "id": "ri4rJHbPT_ph"
      },
      "outputs": [],
      "source": [
        "#@title Welcome to Ersilia on Google Colaboratory!\n",
        "#@markdown Click on the Play button to install [Ersilia](https://github.com/ersilia-os/ersilia) on Google Colab.\n",
        "\n",
        "%%capture\n",
        "%env MINICONDA_INSTALLER_SCRIPT=Miniconda3-py37_4.12.0-Linux-x86_64.sh\n",
        "%env MINICONDA_PREFIX=/usr/local\n",
        "%env PYTHONPATH={PYTHONPATH}:/usr/local/lib/python3.7/site-packages\n",
        "%env CONDA_PREFIX=/usr/local\n",
        "%env CONDA_PREFIX_1=/usr/local\n",
        "%env CONDA_DIR=/usr/local\n",
        "%env CONDA_DEFAULT_ENV=base\n",
        "%env PIP_ROOT_USER_ACTION=ignore\n",
        "!wget https://repo.anaconda.com/miniconda/$MINICONDA_INSTALLER_SCRIPT\n",
        "!chmod +x $MINICONDA_INSTALLER_SCRIPT\n",
        "!./$MINICONDA_INSTALLER_SCRIPT -b -f -p $MINICONDA_PREFIX\n",
        "!python -m pip install git+https://github.com/ersilia-os/ersilia.git\n",
        "!python -m pip install requests --upgrade\n",
        "import sys\n",
        "_ = (sys.path.append(\"/usr/local/lib/python3.7/site-packages\"))"
      ]
    },
    {
      "cell_type": "code",
      "execution_count": null,
      "metadata": {
        "id": "2rHDJCpBUC73"
      },
      "outputs": [],
      "source": [
        "#@markdown Connect Colab to the Drive, specify the path to the input file:\n",
        "path = \"\" #@param {type:\"string\"}\n",
        "from google.colab import drive\n",
        "drive.mount('/content/drive')\n"
      ]
    },
    {
      "cell_type": "markdown",
      "metadata": {
        "id": "Lj7265knaQVO"
      },
      "source": [
        "Convert your input file from csv to a smiles list to pass to Ersilia Models.\n",
        "Below is just an example, make sure to adapt it to your specific input file"
      ]
    },
    {
      "cell_type": "code",
      "execution_count": null,
      "metadata": {
        "id": "RCXuQo3UaPID"
      },
      "outputs": [],
      "source": [
        "import pandas as pd\n",
        "df = pd.read_csv(path)\n",
        "smiles = df[\"CAN_SMILES\"].tolist()\n",
        "print(len(smiles))"
      ]
    },
    {
      "cell_type": "markdown",
      "metadata": {
        "id": "F81GE7eMZreU"
      },
      "source": [
        "Use Ersilia's Python Library to run predictions!\n",
        "Please make sure to use the appropriate API for the model.\n",
        "The cells below are simply an example."
      ]
    },
    {
      "cell_type": "code",
      "execution_count": null,
      "metadata": {
        "id": "9lqbnswpZrGv"
      },
      "outputs": [],
      "source": [
        "# Fetch the model\n",
        "!ersilia fetch eos2gth"
      ]
    },
    {
      "cell_type": "code",
      "execution_count": null,
      "metadata": {
        "id": "pk6y_qQcXTPR"
      },
      "outputs": [],
      "source": [
        "from ersilia import ErsiliaModel\n",
        "\n",
        "model = ErsiliaModel(\"eos2gth\")\n",
        "model.serve()\n",
        "output = model.predict(input=smiles, output=\"pandas\")\n",
        "model.close()"
      ]
    },
    {
      "cell_type": "code",
      "execution_count": null,
      "metadata": {
        "id": "Uyg97PjoYGWR"
      },
      "outputs": [],
      "source": [
        "#@markdown Once the model has run the predictions, let's save the output in the Google Drive\n",
        "output_path = \"\" #@param {type:\"string\"}\n",
        "output.to_csv(output_path, index=False)"
      ]
    }
  ],
  "metadata": {
    "colab": {
      "authorship_tag": "ABX9TyPGaWCj3MlLgQyYIYiBhzLU",
      "include_colab_link": true,
      "provenance": []
    },
    "kernelspec": {
      "display_name": "Python 3",
      "name": "python3"
    },
    "language_info": {
      "name": "python"
    }
  },
  "nbformat": 4,
  "nbformat_minor": 0
}
