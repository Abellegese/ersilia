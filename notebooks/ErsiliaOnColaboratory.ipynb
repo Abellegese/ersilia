{
  "cells": [
    {
      "cell_type": "code",
      "execution_count": null,
      "metadata": {},
      "outputs": [],
      "source": [
        "#@title Welcome to Ersilia on Google Colaboratory!\n",
        "#@markdown Click on the Play button to install [Ersilia](https://github.com/ersilia-os/ersilia) on Google Colab.\n",
        "%%capture\n",
        "%env MINICONDA_INSTALLER_SCRIPT=Miniconda3-py37_4.12.0-Linux-x86_64.sh\n",
        "%env MINICONDA_PREFIX=/usr/local\n",
        "%env PYTHONPATH={PYTHONPATH}:/usr/local/lib/python3.7/site-packages\n",
        "%env CONDA_PREFIX=/usr/local\n",
        "%env CONDA_PREFIX_1=/usr/local\n",
        "%env CONDA_DEFAULT_ENV=base\n",
        "!pip install git+https://github.com/ersilia-os/ersilia.git\n",
        "!wget https://repo.anaconda.com/miniconda/$MINICONDA_INSTALLER_SCRIPT\n",
        "!chmod +x $MINICONDA_INSTALLER_SCRIPT\n",
        "!./$MINICONDA_INSTALLER_SCRIPT -b -f -p $MINICONDA_PREFIX\n",
        "!python -m pip install flask\n",
        "!python -m pip install urllib<=1.25\n",
        "!python -m pip install chardet<=5.0\n",
        "import sys\n",
        "_ = (sys.path.append(\"/usr/local/lib/python3.7/site-packages\"))"
      ]
    },
    {
      "cell_type": "code",
      "execution_count": null,
      "metadata": {},
      "outputs": [],
      "source": [
        "from ersilia import ErsiliaModel\n",
        "\n",
        "with ErsiliaModel(\"molecular-weight\") as mdl:\n",
        "    for r in mdl.calculate([\"CCCCCCN\", \"CCCOCCCC\"]):\n",
        "        print(r)"
      ]
    }
  ],
  "metadata": {
    "colab": {
      "name": "ErsiliaOnColaboratory.ipynb",
      "provenance": []
    },
    "kernelspec": {
      "display_name": "Python 3",
      "name": "python3"
    },
    "language_info": {
      "name": "python"
    }
  },
  "nbformat": 4,
  "nbformat_minor": 0
}
