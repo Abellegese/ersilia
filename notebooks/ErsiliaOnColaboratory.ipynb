{
  "nbformat": 4,
  "nbformat_minor": 0,
  "metadata": {
    "colab": {
      "provenance": [],
      "authorship_tag": "ABX9TyPGaWCj3MlLgQyYIYiBhzLU",
      "include_colab_link": true
    },
    "kernelspec": {
      "name": "python3",
      "display_name": "Python 3"
    },
    "language_info": {
      "name": "python"
    }
  },
  "cells": [
    {
      "cell_type": "markdown",
      "metadata": {
        "id": "view-in-github",
        "colab_type": "text"
      },
      "source": [
        "<a href=\"https://colab.research.google.com/github/ersilia-os/ersilia/blob/master/notebooks/ErsiliaOnColaboratory.ipynb\" target=\"_parent\"><img src=\"https://colab.research.google.com/assets/colab-badge.svg\" alt=\"Open In Colab\"/></a>"
      ]
    },
    {
      "cell_type": "code",
      "execution_count": null,
      "metadata": {
        "id": "ri4rJHbPT_ph",
        "cellView": "form"
      },
      "outputs": [],
      "source": [
        "#@title Welcome to Ersilia on Google Colaboratory!\n",
        "#@markdown Click on the Play button to install [Ersilia](https://github.com/ersilia-os/ersilia) on Google Colab.\n",
        "\n",
        "%%capture\n",
        "%env MINICONDA_INSTALLER_SCRIPT=Miniconda3-py37_4.12.0-Linux-x86_64.sh\n",
        "%env MINICONDA_PREFIX=/usr/local\n",
        "%env PYTHONPATH={PYTHONPATH}:/usr/local/lib/python3.7/site-packages\n",
        "%env CONDA_PREFIX=/usr/local\n",
        "%env CONDA_PREFIX_1=/usr/local\n",
        "%env CONDA_DIR=/usr/local\n",
        "%env CONDA_DEFAULT_ENV=base\n",
        "!wget https://repo.anaconda.com/miniconda/$MINICONDA_INSTALLER_SCRIPT\n",
        "!chmod +x $MINICONDA_INSTALLER_SCRIPT\n",
        "!./$MINICONDA_INSTALLER_SCRIPT -b -f -p $MINICONDA_PREFIX\n",
        "!python -m pip install git+https://github.com/ersilia-os/ersilia.git\n",
        "!python -m pip install requests --upgrade\n",
        "import sys\n",
        "_ = (sys.path.append(\"/usr/local/lib/python3.7/site-packages\"))"
      ]
    },
    {
      "cell_type": "code",
      "source": [
        "#@markdown Connect Colab to the Drive, specify the path to the input file:\n",
        "path = \"\" #@param {type:\"string\"}\n",
        "from google.colab import drive\n",
        "drive.mount('/content/drive')\n"
      ],
      "metadata": {
        "id": "2rHDJCpBUC73"
      },
      "execution_count": null,
      "outputs": []
    },
    {
      "cell_type": "markdown",
      "source": [
        "Convert your input file from csv to a smiles list to pass to Ersilia Models.\n",
        "Below is just an example, make sure to adapt it to your specific input file"
      ],
      "metadata": {
        "id": "Lj7265knaQVO"
      }
    },
    {
      "cell_type": "code",
      "source": [
        "import pandas as pd\n",
        "df = pd.read_csv(path)\n",
        "smiles = df[\"CAN_SMILES\"].tolist()\n",
        "print(len(smiles))"
      ],
      "metadata": {
        "id": "RCXuQo3UaPID"
      },
      "execution_count": null,
      "outputs": []
    },
    {
      "cell_type": "markdown",
      "source": [
        "Use Ersilia's Python Library to run predictions!\n",
        "Please make sure to use the appropriate API for the model.\n",
        "The cells below are simply an example."
      ],
      "metadata": {
        "id": "F81GE7eMZreU"
      }
    },
    {
      "cell_type": "code",
      "source": [
        "# Fetch the model\n",
        "!ersilia fetch eos2gth"
      ],
      "metadata": {
        "id": "9lqbnswpZrGv"
      },
      "execution_count": null,
      "outputs": []
    },
    {
      "cell_type": "code",
      "source": [
        "from ersilia import ErsiliaModel\n",
        "\n",
        "model = ErsiliaModel(\"eos2gth\")\n",
        "model.serve()\n",
        "output = model.predict(input=smiles, output=\"pandas\")\n",
        "model.close()"
      ],
      "metadata": {
        "id": "pk6y_qQcXTPR"
      },
      "execution_count": null,
      "outputs": []
    },
    {
      "cell_type": "code",
      "source": [
        "#@markdown Once the model has run the predictions, let's save the output in the Google Drive\n",
        "output_path = \"\" #@param {type:\"string\"}\n",
        "output.to_csv(output_path, index=False)"
      ],
      "metadata": {
        "id": "Uyg97PjoYGWR"
      },
      "execution_count": null,
      "outputs": []
    }
  ]
}