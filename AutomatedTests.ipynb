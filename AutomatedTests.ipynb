{
  "nbformat": 4,
  "nbformat_minor": 0,
  "metadata": {
    "colab": {
      "provenance": [],
      "authorship_tag": "ABX9TyMeo/GHxaNxDKGllxdivGFu",
      "include_colab_link": true
    },
    "kernelspec": {
      "name": "python3",
      "display_name": "Python 3"
    },
    "language_info": {
      "name": "python"
    }
  },
  "cells": [
    {
      "cell_type": "markdown",
      "metadata": {
        "id": "view-in-github",
        "colab_type": "text"
      },
      "source": [
        "<a href=\"https://colab.research.google.com/github/ersilia-os/ersilia/blob/master/AutomatedTests.ipynb\" target=\"_parent\"><img src=\"https://colab.research.google.com/assets/colab-badge.svg\" alt=\"Open In Colab\"/></a>"
      ]
    },
    {
      "cell_type": "code",
      "execution_count": 1,
      "metadata": {
        "id": "nfviCJzuaOSV"
      },
      "outputs": [],
      "source": [
        "# STEP 1: Installation of Conda and Ersilia\n",
        "%%capture\n",
        "%env MINICONDA_INSTALLER_SCRIPT=Miniconda3-py37_4.12.0-Linux-x86_64.sh\n",
        "%env MINICONDA_PREFIX=/usr/local\n",
        "%env PYTHONPATH= \"$PYTHONPATH:/usr/local/lib/python3.7/site-packages\"\n",
        "%env PIP_ROOT_USER_ACTION=ignore\n",
        "\n",
        "!wget https://repo.anaconda.com/miniconda/$MINICONDA_INSTALLER_SCRIPT\n",
        "!chmod +x $MINICONDA_INSTALLER_SCRIPT\n",
        "!./$MINICONDA_INSTALLER_SCRIPT -b -f -p $MINICONDA_PREFIX\n",
        "\n",
        "!python -m pip install git+https://github.com/ersilia-os/ersilia.git\n",
        "!python -m pip install requests --upgrade\n",
        "import sys\n",
        "_ = (sys.path.append(\"/usr/local/lib/python3.7/site-packages\"))"
      ]
    },
    {
      "cell_type": "code",
      "source": [
        "#Variable: model name\n",
        "model_name = \"eos3b5e\" # please modify here as required"
      ],
      "metadata": {
        "id": "twsVZ20qac7j"
      },
      "execution_count": 2,
      "outputs": []
    },
    {
      "cell_type": "code",
      "source": [
        "#Mock smiles for testing\n",
        "smi  = \"CCCCCCC\" #this needs to take actually the test input used when fetching the model for example"
      ],
      "metadata": {
        "id": "D-PViFJTbWNu"
      },
      "execution_count": 5,
      "outputs": []
    },
    {
      "cell_type": "code",
      "source": [
        "# STEP 2: Test model using CLI commands\n",
        "\n",
        "!ersilia fetch $model_name\n",
        "!ersilia serve $model_name\n",
        "!ersilia api -i smi"
      ],
      "metadata": {
        "colab": {
          "base_uri": "https://localhost:8080/"
        },
        "id": "qqfXhLQWaZ3j",
        "outputId": "2a02976f-7e44-4d25-db99-3a189788f0ac"
      },
      "execution_count": 3,
      "outputs": [
        {
          "output_type": "stream",
          "name": "stdout",
          "text": [
            "\u001b[34m⬇️  Fetching model eos3b5e: molecular-weight\u001b[0m\n",
            "\u001b[32m👍 Model eos3b5e fetched successfully!\u001b[0m\n",
            "\u001b[32m🚀 Serving model eos3b5e: molecular-weight\u001b[0m\n",
            "\u001b[0m\n",
            "\u001b[33m   URL: http://127.0.0.1:36919\u001b[0m\n",
            "\u001b[33m   PID: 2660\u001b[0m\n",
            "\u001b[33m   SRV: conda\u001b[0m\n",
            "\u001b[0m\n",
            "\u001b[34m👉 Available APIs:\u001b[0m\n",
            "\u001b[34m   - calculate\u001b[0m\n",
            "Usage: ersilia api [OPTIONS] [API_NAME]\n",
            "Try 'ersilia api --help' for help.\n",
            "\n",
            "Error: Missing option '-i' / '--input'.\n"
          ]
        }
      ]
    },
    {
      "cell_type": "code",
      "source": [
        "!ersilia api -i \"CCCCCC\""
      ],
      "metadata": {
        "colab": {
          "base_uri": "https://localhost:8080/"
        },
        "id": "dvHMFiSbbhIW",
        "outputId": "1411716f-c5fb-4068-9b77-e109ad01ccc8"
      },
      "execution_count": 4,
      "outputs": [
        {
          "output_type": "stream",
          "name": "stdout",
          "text": [
            "{\n",
            "    \"input\": {\n",
            "        \"key\": \"VLKZOEOYAKHREP-UHFFFAOYSA-N\",\n",
            "        \"input\": \"CCCCCC\",\n",
            "        \"text\": \"CCCCCC\"\n",
            "    },\n",
            "    \"output\": {\n",
            "        \"mw\": 86.178\n",
            "    }\n",
            "}\u001b[0m\n"
          ]
        }
      ]
    },
    {
      "cell_type": "code",
      "source": [
        "# STEP 3: Test model using python package (model is already fetched in step 1)\n",
        "\n",
        "from ersilia import ErsiliaModel\n",
        "\n",
        "model = ErsiliaModel(model_name)\n",
        "model.serve()\n",
        "output = model.predict(smi) #here we need to know the real API\n",
        "model.close()"
      ],
      "metadata": {
        "colab": {
          "base_uri": "https://localhost:8080/",
          "height": 218
        },
        "id": "LIv87dIDarWs",
        "outputId": "d8ba7bdb-007f-4e1f-83c0-a9b4b2b29208"
      },
      "execution_count": 7,
      "outputs": [
        {
          "output_type": "error",
          "ename": "AttributeError",
          "evalue": "ignored",
          "traceback": [
            "\u001b[0;31m---------------------------------------------------------------------------\u001b[0m",
            "\u001b[0;31mAttributeError\u001b[0m                            Traceback (most recent call last)",
            "\u001b[0;32m<ipython-input-7-fbd839590d42>\u001b[0m in \u001b[0;36m<module>\u001b[0;34m\u001b[0m\n\u001b[1;32m      5\u001b[0m \u001b[0mmodel\u001b[0m \u001b[0;34m=\u001b[0m \u001b[0mErsiliaModel\u001b[0m\u001b[0;34m(\u001b[0m\u001b[0mmodel_name\u001b[0m\u001b[0;34m)\u001b[0m\u001b[0;34m\u001b[0m\u001b[0;34m\u001b[0m\u001b[0m\n\u001b[1;32m      6\u001b[0m \u001b[0mmodel\u001b[0m\u001b[0;34m.\u001b[0m\u001b[0mserve\u001b[0m\u001b[0;34m(\u001b[0m\u001b[0;34m)\u001b[0m\u001b[0;34m\u001b[0m\u001b[0;34m\u001b[0m\u001b[0m\n\u001b[0;32m----> 7\u001b[0;31m \u001b[0moutput\u001b[0m \u001b[0;34m=\u001b[0m \u001b[0mmodel\u001b[0m\u001b[0;34m.\u001b[0m\u001b[0mpredict\u001b[0m\u001b[0;34m(\u001b[0m\u001b[0msmi\u001b[0m\u001b[0;34m)\u001b[0m\u001b[0;34m\u001b[0m\u001b[0;34m\u001b[0m\u001b[0m\n\u001b[0m\u001b[1;32m      8\u001b[0m \u001b[0mmodel\u001b[0m\u001b[0;34m.\u001b[0m\u001b[0mclose\u001b[0m\u001b[0;34m(\u001b[0m\u001b[0;34m)\u001b[0m\u001b[0;34m\u001b[0m\u001b[0;34m\u001b[0m\u001b[0m\n",
            "\u001b[0;31mAttributeError\u001b[0m: 'ErsiliaModel' object has no attribute 'predict'"
          ]
        }
      ]
    },
    {
      "cell_type": "code",
      "source": [],
      "metadata": {
        "id": "0kIz-YfDbpbs"
      },
      "execution_count": null,
      "outputs": []
    }
  ]
}