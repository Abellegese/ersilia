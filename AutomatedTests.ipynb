{
  "nbformat": 4,
  "nbformat_minor": 0,
  "metadata": {
    "colab": {
      "provenance": [],
      "include_colab_link": true
    },
    "kernelspec": {
      "name": "python3",
      "display_name": "Python 3"
    },
    "language_info": {
      "name": "python"
    }
  },
  "cells": [
    {
      "cell_type": "markdown",
      "metadata": {
        "id": "view-in-github",
        "colab_type": "text"
      },
      "source": [
        "<a href=\"https://colab.research.google.com/github/pavithranair/ersilia/blob/api_call/AutomatedTests.ipynb\" target=\"_parent\"><img src=\"https://colab.research.google.com/assets/colab-badge.svg\" alt=\"Open In Colab\"/></a>"
      ]
    },
    {
      "cell_type": "code",
      "execution_count": 8,
      "metadata": {
        "id": "nfviCJzuaOSV"
      },
      "outputs": [],
      "source": [
        "# STEP 1: Installation of Conda and Ersilia\n",
        "%%capture\n",
        "%env MINICONDA_INSTALLER_SCRIPT=Miniconda3-py37_4.12.0-Linux-x86_64.sh\n",
        "%env MINICONDA_PREFIX=/usr/local\n",
        "%env PYTHONPATH= \"$PYTHONPATH:/usr/local/lib/python3.7/site-packages\"\n",
        "%env PIP_ROOT_USER_ACTION=ignore\n",
        "\n",
        "!wget https://repo.anaconda.com/miniconda/$MINICONDA_INSTALLER_SCRIPT\n",
        "!chmod +x $MINICONDA_INSTALLER_SCRIPT\n",
        "!./$MINICONDA_INSTALLER_SCRIPT -b -f -p $MINICONDA_PREFIX\n",
        "\n",
        "!python -m pip install git+https://github.com/ersilia-os/ersilia.git\n",
        "!python -m pip install requests --upgrade\n",
        "import sys\n",
        "_ = (sys.path.append(\"/usr/local/lib/python3.7/site-packages\"))"
      ]
    },
    {
      "cell_type": "code",
      "source": [
        "#Variable: model name\n",
        "model_name = \"eos3b5e\" # please modify here as required"
      ],
      "metadata": {
        "id": "twsVZ20qac7j"
      },
      "execution_count": 9,
      "outputs": []
    },
    {
      "cell_type": "code",
      "source": [
        "#Mock smiles for testing\n",
        "smi  = \"CCCCCCC\" #this needs to take actually the test input used when fetching the model for example"
      ],
      "metadata": {
        "id": "D-PViFJTbWNu"
      },
      "execution_count": 10,
      "outputs": []
    },
    {
      "cell_type": "code",
      "source": [
        "# STEP 2: Test model using CLI commands\n",
        "\n",
        "!ersilia fetch $model_name\n",
        "!ersilia serve $model_name\n",
        "!ersilia api -i $smi"
      ],
      "metadata": {
        "colab": {
          "base_uri": "https://localhost:8080/"
        },
        "id": "qqfXhLQWaZ3j",
        "outputId": "b41efd66-81f3-43e9-c089-53c4eac3eb3b"
      },
      "execution_count": 11,
      "outputs": [
        {
          "output_type": "stream",
          "name": "stdout",
          "text": [
            "\u001b[34m⬇️  Fetching model eos3b5e: molecular-weight\u001b[0m\n",
            "\u001b[32m👍 Model eos3b5e fetched successfully!\u001b[0m\n",
            "\u001b[32m🚀 Serving model eos3b5e: molecular-weight\u001b[0m\n",
            "\u001b[0m\n",
            "\u001b[33m   URL: http://127.0.0.1:39535\u001b[0m\n",
            "\u001b[33m   PID: 13339\u001b[0m\n",
            "\u001b[33m   SRV: conda\u001b[0m\n",
            "\u001b[0m\n",
            "\u001b[34m👉 Available APIs:\u001b[0m\n",
            "\u001b[34m   - calculate\u001b[0m\n",
            "{\n",
            "    \"input\": {\n",
            "        \"key\": \"IMNFDUFMRHMDMM-UHFFFAOYSA-N\",\n",
            "        \"input\": \"CCCCCCC\",\n",
            "        \"text\": \"CCCCCCC\"\n",
            "    },\n",
            "    \"output\": {\n",
            "        \"mw\": 100.205\n",
            "    }\n",
            "}\u001b[0m\n"
          ]
        }
      ]
    },
    {
      "cell_type": "code",
      "source": [
        "# STEP 3: Test model using python package (model is already fetched in step 1)\n",
        "\n",
        "from ersilia import ErsiliaModel\n",
        "\n",
        "model = ErsiliaModel(model_name)\n",
        "model.serve()\n",
        "model.calculate(smi) #here we need to know the real API\n",
        "model.close()"
      ],
      "metadata": {
        "id": "LIv87dIDarWs"
      },
      "execution_count": 12,
      "outputs": []
    },
    {
      "cell_type": "code",
      "source": [],
      "metadata": {
        "id": "t3MEqJDQkKDk"
      },
      "execution_count": null,
      "outputs": []
    }
  ]
}